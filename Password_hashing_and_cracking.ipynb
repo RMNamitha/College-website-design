{
  "nbformat": 4,
  "nbformat_minor": 0,
  "metadata": {
    "colab": {
      "provenance": [],
      "authorship_tag": "ABX9TyOXW2G4wzONLqPcPp+eMbJ7",
      "include_colab_link": true
    },
    "kernelspec": {
      "name": "python3",
      "display_name": "Python 3"
    },
    "language_info": {
      "name": "python"
    }
  },
  "cells": [
    {
      "cell_type": "markdown",
      "metadata": {
        "id": "view-in-github",
        "colab_type": "text"
      },
      "source": [
        "<a href=\"https://colab.research.google.com/github/RMNamitha/College-website-design/blob/main/Password_hashing_and_cracking.ipynb\" target=\"_parent\"><img src=\"https://colab.research.google.com/assets/colab-badge.svg\" alt=\"Open In Colab\"/></a>"
      ]
    },
    {
      "cell_type": "code",
      "execution_count": null,
      "metadata": {
        "colab": {
          "base_uri": "https://localhost:8080/"
        },
        "id": "wI0o47U7eotc",
        "outputId": "fb7d1831-3ff8-488b-c52f-5b59e088e095"
      },
      "outputs": [
        {
          "output_type": "stream",
          "name": "stdout",
          "text": [
            "Requirement already satisfied: bcrypt in /usr/local/lib/python3.11/dist-packages (4.3.0)\n",
            "Requirement already satisfied: argon2-cffi in /usr/local/lib/python3.11/dist-packages (23.1.0)\n",
            "Requirement already satisfied: argon2-cffi-bindings in /usr/local/lib/python3.11/dist-packages (from argon2-cffi) (21.2.0)\n",
            "Requirement already satisfied: cffi>=1.0.1 in /usr/local/lib/python3.11/dist-packages (from argon2-cffi-bindings->argon2-cffi) (1.17.1)\n",
            "Requirement already satisfied: pycparser in /usr/local/lib/python3.11/dist-packages (from cffi>=1.0.1->argon2-cffi-bindings->argon2-cffi) (2.22)\n"
          ]
        }
      ],
      "source": [
        "!pip install bcrypt argon2-cffi"
      ]
    },
    {
      "cell_type": "code",
      "source": [
        "# Install required libraries\n",
        "!pip install bcrypt argon2-cffi\n",
        "\n",
        "# Import libraries\n",
        "import hashlib\n",
        "import bcrypt\n",
        "from argon2 import PasswordHasher\n",
        "from itertools import product\n",
        "import time\n",
        "\n",
        "# Sample in-memory wordlist for dictionary attacks\n",
        "WORDLIST_LIST = [\n",
        "    \"123456\", \"password\", \"letmein\", \"qwerty\",\n",
        "    \"admin\", \"secret\", \"mysecretpassword\"\n",
        "]\n",
        "\n",
        "# ========================\n",
        "# HASHING MODULE\n",
        "# ========================\n",
        "\n",
        "def hash_sha256(password: str) -> str:\n",
        "    return hashlib.sha256(password.encode()).hexdigest()\n",
        "\n",
        "def hash_bcrypt(password: str) -> bytes:\n",
        "    return bcrypt.hashpw(password.encode(), bcrypt.gensalt())\n",
        "\n",
        "def verify_bcrypt(password: str, hashed: bytes) -> bool:\n",
        "    return bcrypt.checkpw(password.encode(), hashed)\n",
        "\n",
        "def hash_argon2(password: str) -> str:\n",
        "    ph = PasswordHasher()\n",
        "    return ph.hash(password)\n",
        "\n",
        "def verify_argon2(password: str, hashed: str) -> bool:\n",
        "    ph = PasswordHasher()\n",
        "    try:\n",
        "        ph.verify(hashed, password)\n",
        "        return True\n",
        "    except:\n",
        "        return False\n",
        "\n",
        "# ========================\n",
        "# ATTACK MODULE\n",
        "# ========================\n",
        "\n",
        "def brute_force_sha256(target_hash: str, charset: str, max_len: int) -> str:\n",
        "    print(\"\\n[+] Starting brute-force (SHA-256)...\")\n",
        "    for length in range(1, max_len + 1):\n",
        "        for guess in product(charset, repeat=length):\n",
        "            guess_word = ''.join(guess)\n",
        "            if hash_sha256(guess_word) == target_hash:\n",
        "                print(f\"[✓] Password found: {guess_word}\")\n",
        "                return guess_word\n",
        "    print(\"[x] Password not found.\")\n",
        "    return \"\"\n",
        "\n",
        "def dictionary_attack_bcrypt(target_hash: bytes) -> str:\n",
        "    print(\"\\n[+] Starting dictionary attack (bcrypt)...\")\n",
        "    for word in WORDLIST_LIST:\n",
        "        if verify_bcrypt(word, target_hash):\n",
        "            print(f\"[✓] Password found: {word}\")\n",
        "            return word\n",
        "    print(\"[x] Password not found.\")\n",
        "    return \"\"\n",
        "\n",
        "def dictionary_attack_argon2(target_hash: str) -> str:\n",
        "    print(\"\\n[+] Starting dictionary attack (Argon2)...\")\n",
        "    for word in WORDLIST_LIST:\n",
        "        if verify_argon2(word, target_hash):\n",
        "            print(f\"[✓] Password found: {word}\")\n",
        "            return word\n",
        "    print(\"[x] Password not found.\")\n",
        "    return \"\"\n",
        "\n",
        "# ========================\n",
        "# MAIN FUNCTION\n",
        "# ========================\n",
        "\n",
        "def main():\n",
        "    print(\"====== PASSWORD HASHING & CRACKING ======\\n\")\n",
        "    password = input(\"Enter a password to hash and test: \")\n",
        "\n",
        "    print(\"\\n--- Generating hashes ---\")\n",
        "    sha256_hash = hash_sha256(password)\n",
        "    bcrypt_hash = hash_bcrypt(password)\n",
        "    argon2_hash = hash_argon2(password)\n",
        "\n",
        "    print(f\"\\nSHA-256 Hash: {sha256_hash}\")\n",
        "    print(f\"bcrypt Hash : {bcrypt_hash.decode()}\")\n",
        "    print(f\"Argon2 Hash : {argon2_hash}\")\n",
        "\n",
        "    # SHA-256 BRUTE FORCE\n",
        "    charset = 'abc123'\n",
        "    start = time.time()\n",
        "    brute_force_sha256(sha256_hash, charset, 4)\n",
        "    print(f\"Time taken: {time.time() - start:.2f}s\")\n",
        "\n",
        "    # bcrypt DICTIONARY ATTACK\n",
        "    start = time.time()\n",
        "    dictionary_attack_bcrypt(bcrypt_hash)\n",
        "    print(f\"Time taken: {time.time() - start:.2f}s\")\n",
        "\n",
        "    # Argon2 DICTIONARY ATTACK\n",
        "    start = time.time()\n",
        "    dictionary_attack_argon2(argon2_hash)\n",
        "    print(f\"Time taken: {time.time() - start:.2f}s\")\n",
        "\n",
        "# Run the main function\n",
        "main()\n"
      ],
      "metadata": {
        "colab": {
          "base_uri": "https://localhost:8080/"
        },
        "id": "LuMGrcIcerXT",
        "outputId": "7bde6296-f3d2-4959-d4f4-ce004666e68d"
      },
      "execution_count": null,
      "outputs": [
        {
          "output_type": "stream",
          "name": "stdout",
          "text": [
            "Requirement already satisfied: bcrypt in /usr/local/lib/python3.11/dist-packages (4.3.0)\n",
            "Requirement already satisfied: argon2-cffi in /usr/local/lib/python3.11/dist-packages (23.1.0)\n",
            "Requirement already satisfied: argon2-cffi-bindings in /usr/local/lib/python3.11/dist-packages (from argon2-cffi) (21.2.0)\n",
            "Requirement already satisfied: cffi>=1.0.1 in /usr/local/lib/python3.11/dist-packages (from argon2-cffi-bindings->argon2-cffi) (1.17.1)\n",
            "Requirement already satisfied: pycparser in /usr/local/lib/python3.11/dist-packages (from cffi>=1.0.1->argon2-cffi-bindings->argon2-cffi) (2.22)\n",
            "====== PASSWORD HASHING & CRACKING ======\n",
            "\n",
            "Enter a password to hash and test: Namitha\n",
            "\n",
            "--- Generating hashes ---\n",
            "\n",
            "SHA-256 Hash: 5a448b5c17effeb06589e722a218e0624bd93ac8e2d09c76005c4ee804551b3b\n",
            "bcrypt Hash : $2b$12$p0WymlZ6Izki19EeJnr5oO3MyiT4nkQEp6wKF5BcpUFQHnupyhMfW\n",
            "Argon2 Hash : $argon2id$v=19$m=65536,t=3,p=4$IPA+dAqTqivUD8/IlTsIcw$shcUZTf9/gOy6KA60PIPODtEHHUv5mp8oijQQWk3zoo\n",
            "\n",
            "[+] Starting brute-force (SHA-256)...\n",
            "[x] Password not found.\n",
            "Time taken: 0.00s\n",
            "\n",
            "[+] Starting dictionary attack (bcrypt)...\n",
            "[x] Password not found.\n",
            "Time taken: 2.30s\n",
            "\n",
            "[+] Starting dictionary attack (Argon2)...\n",
            "[x] Password not found.\n",
            "Time taken: 1.20s\n"
          ]
        }
      ]
    },
    {
      "cell_type": "code",
      "source": [],
      "metadata": {
        "id": "L1jsEphreTJ5"
      },
      "execution_count": null,
      "outputs": []
    }
  ]
}